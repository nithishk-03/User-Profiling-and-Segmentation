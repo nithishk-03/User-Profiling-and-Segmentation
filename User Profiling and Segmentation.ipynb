{
 "cells": [
  {
   "cell_type": "code",
   "execution_count": 1,
   "id": "e9fd59b0",
   "metadata": {},
   "outputs": [],
   "source": [
    "import pandas as pd\n",
    "import matplotlib.pyplot as plt\n",
    "import seaborn as sns"
   ]
  },
  {
   "cell_type": "code",
   "execution_count": 2,
   "id": "33a45910",
   "metadata": {},
   "outputs": [],
   "source": [
    "data=pd.read_csv(\"user_profiles_for_ads.csv\")"
   ]
  },
  {
   "cell_type": "code",
   "execution_count": 3,
   "id": "7a978c95",
   "metadata": {},
   "outputs": [
    {
     "data": {
      "text/html": [
       "<div>\n",
       "<style scoped>\n",
       "    .dataframe tbody tr th:only-of-type {\n",
       "        vertical-align: middle;\n",
       "    }\n",
       "\n",
       "    .dataframe tbody tr th {\n",
       "        vertical-align: top;\n",
       "    }\n",
       "\n",
       "    .dataframe thead th {\n",
       "        text-align: right;\n",
       "    }\n",
       "</style>\n",
       "<table border=\"1\" class=\"dataframe\">\n",
       "  <thead>\n",
       "    <tr style=\"text-align: right;\">\n",
       "      <th></th>\n",
       "      <th>User ID</th>\n",
       "      <th>Age</th>\n",
       "      <th>Gender</th>\n",
       "      <th>Location</th>\n",
       "      <th>Language</th>\n",
       "      <th>Education Level</th>\n",
       "      <th>Likes and Reactions</th>\n",
       "      <th>Followed Accounts</th>\n",
       "      <th>Device Usage</th>\n",
       "      <th>Time Spent Online (hrs/weekday)</th>\n",
       "      <th>Time Spent Online (hrs/weekend)</th>\n",
       "      <th>Click-Through Rates (CTR)</th>\n",
       "      <th>Conversion Rates</th>\n",
       "      <th>Ad Interaction Time (sec)</th>\n",
       "      <th>Income Level</th>\n",
       "      <th>Top Interests</th>\n",
       "    </tr>\n",
       "  </thead>\n",
       "  <tbody>\n",
       "    <tr>\n",
       "      <th>0</th>\n",
       "      <td>1</td>\n",
       "      <td>25-34</td>\n",
       "      <td>Female</td>\n",
       "      <td>Suburban</td>\n",
       "      <td>Hindi</td>\n",
       "      <td>Technical</td>\n",
       "      <td>5640</td>\n",
       "      <td>190</td>\n",
       "      <td>Mobile Only</td>\n",
       "      <td>4.5</td>\n",
       "      <td>1.7</td>\n",
       "      <td>0.193</td>\n",
       "      <td>0.067</td>\n",
       "      <td>25</td>\n",
       "      <td>20k-40k</td>\n",
       "      <td>Digital Marketing</td>\n",
       "    </tr>\n",
       "    <tr>\n",
       "      <th>1</th>\n",
       "      <td>2</td>\n",
       "      <td>65+</td>\n",
       "      <td>Male</td>\n",
       "      <td>Urban</td>\n",
       "      <td>Hindi</td>\n",
       "      <td>PhD</td>\n",
       "      <td>9501</td>\n",
       "      <td>375</td>\n",
       "      <td>Tablet</td>\n",
       "      <td>0.5</td>\n",
       "      <td>7.7</td>\n",
       "      <td>0.114</td>\n",
       "      <td>0.044</td>\n",
       "      <td>68</td>\n",
       "      <td>0-20k</td>\n",
       "      <td>Data Science</td>\n",
       "    </tr>\n",
       "    <tr>\n",
       "      <th>2</th>\n",
       "      <td>3</td>\n",
       "      <td>45-54</td>\n",
       "      <td>Female</td>\n",
       "      <td>Suburban</td>\n",
       "      <td>Spanish</td>\n",
       "      <td>Technical</td>\n",
       "      <td>4775</td>\n",
       "      <td>187</td>\n",
       "      <td>Mobile Only</td>\n",
       "      <td>4.5</td>\n",
       "      <td>5.6</td>\n",
       "      <td>0.153</td>\n",
       "      <td>0.095</td>\n",
       "      <td>80</td>\n",
       "      <td>60k-80k</td>\n",
       "      <td>Fitness and Wellness</td>\n",
       "    </tr>\n",
       "    <tr>\n",
       "      <th>3</th>\n",
       "      <td>4</td>\n",
       "      <td>35-44</td>\n",
       "      <td>Female</td>\n",
       "      <td>Rural</td>\n",
       "      <td>Spanish</td>\n",
       "      <td>PhD</td>\n",
       "      <td>9182</td>\n",
       "      <td>152</td>\n",
       "      <td>Desktop Only</td>\n",
       "      <td>3.1</td>\n",
       "      <td>4.2</td>\n",
       "      <td>0.093</td>\n",
       "      <td>0.061</td>\n",
       "      <td>65</td>\n",
       "      <td>100k+</td>\n",
       "      <td>Gaming, DIY Crafts</td>\n",
       "    </tr>\n",
       "    <tr>\n",
       "      <th>4</th>\n",
       "      <td>5</td>\n",
       "      <td>25-34</td>\n",
       "      <td>Female</td>\n",
       "      <td>Urban</td>\n",
       "      <td>English</td>\n",
       "      <td>Technical</td>\n",
       "      <td>6848</td>\n",
       "      <td>371</td>\n",
       "      <td>Mobile Only</td>\n",
       "      <td>2.0</td>\n",
       "      <td>3.8</td>\n",
       "      <td>0.175</td>\n",
       "      <td>0.022</td>\n",
       "      <td>99</td>\n",
       "      <td>20k-40k</td>\n",
       "      <td>Fitness and Wellness, Investing and Finance, G...</td>\n",
       "    </tr>\n",
       "  </tbody>\n",
       "</table>\n",
       "</div>"
      ],
      "text/plain": [
       "   User ID    Age  Gender  Location Language Education Level  \\\n",
       "0        1  25-34  Female  Suburban    Hindi       Technical   \n",
       "1        2    65+    Male     Urban    Hindi             PhD   \n",
       "2        3  45-54  Female  Suburban  Spanish       Technical   \n",
       "3        4  35-44  Female     Rural  Spanish             PhD   \n",
       "4        5  25-34  Female     Urban  English       Technical   \n",
       "\n",
       "   Likes and Reactions  Followed Accounts  Device Usage  \\\n",
       "0                 5640                190   Mobile Only   \n",
       "1                 9501                375        Tablet   \n",
       "2                 4775                187   Mobile Only   \n",
       "3                 9182                152  Desktop Only   \n",
       "4                 6848                371   Mobile Only   \n",
       "\n",
       "   Time Spent Online (hrs/weekday)  Time Spent Online (hrs/weekend)  \\\n",
       "0                              4.5                              1.7   \n",
       "1                              0.5                              7.7   \n",
       "2                              4.5                              5.6   \n",
       "3                              3.1                              4.2   \n",
       "4                              2.0                              3.8   \n",
       "\n",
       "   Click-Through Rates (CTR)  Conversion Rates  Ad Interaction Time (sec)  \\\n",
       "0                      0.193             0.067                         25   \n",
       "1                      0.114             0.044                         68   \n",
       "2                      0.153             0.095                         80   \n",
       "3                      0.093             0.061                         65   \n",
       "4                      0.175             0.022                         99   \n",
       "\n",
       "  Income Level                                      Top Interests  \n",
       "0      20k-40k                                  Digital Marketing  \n",
       "1        0-20k                                       Data Science  \n",
       "2      60k-80k                               Fitness and Wellness  \n",
       "3        100k+                                 Gaming, DIY Crafts  \n",
       "4      20k-40k  Fitness and Wellness, Investing and Finance, G...  "
      ]
     },
     "execution_count": 3,
     "metadata": {},
     "output_type": "execute_result"
    }
   ],
   "source": [
    "data.head()"
   ]
  },
  {
   "cell_type": "code",
   "execution_count": 4,
   "id": "14b3e34b",
   "metadata": {},
   "outputs": [
    {
     "data": {
      "text/plain": [
       "User ID                            0\n",
       "Age                                0\n",
       "Gender                             0\n",
       "Location                           0\n",
       "Language                           0\n",
       "Education Level                    0\n",
       "Likes and Reactions                0\n",
       "Followed Accounts                  0\n",
       "Device Usage                       0\n",
       "Time Spent Online (hrs/weekday)    0\n",
       "Time Spent Online (hrs/weekend)    0\n",
       "Click-Through Rates (CTR)          0\n",
       "Conversion Rates                   0\n",
       "Ad Interaction Time (sec)          0\n",
       "Income Level                       0\n",
       "Top Interests                      0\n",
       "dtype: int64"
      ]
     },
     "execution_count": 4,
     "metadata": {},
     "output_type": "execute_result"
    }
   ],
   "source": [
    "data.isnull().sum()"
   ]
  },
  {
   "cell_type": "code",
   "execution_count": 5,
   "id": "b63377ce",
   "metadata": {},
   "outputs": [
    {
     "name": "stdout",
     "output_type": "stream",
     "text": [
      "<class 'pandas.core.frame.DataFrame'>\n",
      "RangeIndex: 1000 entries, 0 to 999\n",
      "Data columns (total 16 columns):\n",
      " #   Column                           Non-Null Count  Dtype  \n",
      "---  ------                           --------------  -----  \n",
      " 0   User ID                          1000 non-null   int64  \n",
      " 1   Age                              1000 non-null   object \n",
      " 2   Gender                           1000 non-null   object \n",
      " 3   Location                         1000 non-null   object \n",
      " 4   Language                         1000 non-null   object \n",
      " 5   Education Level                  1000 non-null   object \n",
      " 6   Likes and Reactions              1000 non-null   int64  \n",
      " 7   Followed Accounts                1000 non-null   int64  \n",
      " 8   Device Usage                     1000 non-null   object \n",
      " 9   Time Spent Online (hrs/weekday)  1000 non-null   float64\n",
      " 10  Time Spent Online (hrs/weekend)  1000 non-null   float64\n",
      " 11  Click-Through Rates (CTR)        1000 non-null   float64\n",
      " 12  Conversion Rates                 1000 non-null   float64\n",
      " 13  Ad Interaction Time (sec)        1000 non-null   int64  \n",
      " 14  Income Level                     1000 non-null   object \n",
      " 15  Top Interests                    1000 non-null   object \n",
      "dtypes: float64(4), int64(4), object(8)\n",
      "memory usage: 125.1+ KB\n"
     ]
    }
   ],
   "source": [
    "data.info()"
   ]
  },
  {
   "cell_type": "code",
   "execution_count": 6,
   "id": "5de9f960",
   "metadata": {},
   "outputs": [],
   "source": [
    "sns.set_style(\"whitegrid\")\n"
   ]
  },
  {
   "cell_type": "code",
   "execution_count": 7,
   "id": "0dbbfcab",
   "metadata": {},
   "outputs": [
    {
     "data": {
      "image/png": "[encoded data removed]",
      "text/plain": [
       "<Figure size 1800x1200 with 4 Axes>"
      ]
     },
     "metadata": {},
     "output_type": "display_data"
    }
   ],
   "source": [
    "fig,axes=plt.subplots(2,2,figsize=(18,12))\n",
    "fig.suptitle(\"Distribution of Key Demographic Variables\")\n",
    "sns.countplot(ax=axes[0,0], x=\"Age\",data=data,palette=\"pastel\")\n",
    "ax=axes[0,0].set_title=(\"Age Distribution\")\n",
    "ax=axes[0,0].tick_params(axis=\"x\",rotation=45)\n",
    "sns.countplot(ax=axes[0,1], x=\"Gender\",data=data,palette=\"pastel\")\n",
    "ax=axes[0,1].set_title=(\"Gener Distribution\")\n",
    "ax=axes[0,1].tick_params(axis=\"x\",rotation=45)\n",
    "sns.countplot(ax=axes[1,0], x=\"Education Level\",data=data,palette=\"pastel\")\n",
    "ax=axes[1,0].set_title=(\"Education Level Distribution\")\n",
    "ax=axes[1,0].tick_params(axis=\"x\",rotation=45)\n",
    "sns.countplot(ax=axes[1,1], x=\"Income Level\",data=data,palette=\"pastel\")\n",
    "ax=axes[1,1].set_title=(\"Income Level Distribution\")\n",
    "ax=axes[1,1].tick_params(axis=\"x\",rotation=45)"
   ]
  },
  {
   "cell_type": "code",
   "execution_count": 8,
   "id": "445e76a3",
   "metadata": {},
   "outputs": [
    {
     "data": {
      "image/png": "[encoded data removed]",
      "text/plain": [
       "<Figure size 1000x600 with 1 Axes>"
      ]
     },
     "metadata": {},
     "output_type": "display_data"
    }
   ],
   "source": [
    "plt.figure(figsize=(10, 6))\n",
    "sns.countplot(x=\"Device Usage\",data=data,palette=\"pastel\")\n",
    "plt.title(\"Device Usage Distribution\")\n",
    "plt.show()"
   ]
  },
  {
   "cell_type": "code",
   "execution_count": 9,
   "id": "f18e5140",
   "metadata": {},
   "outputs": [
    {
     "data": {
      "text/plain": [
       "Text(0.5, 1.0, 'Ad Interaction Time (sec)')"
      ]
     },
     "execution_count": 9,
     "metadata": {},
     "output_type": "execute_result"
    },
    {
     "data": {
      "image/png": "[encoded data removed]",
      "text/plain": [
       "<Figure size 1800x1500 with 6 Axes>"
      ]
     },
     "metadata": {},
     "output_type": "display_data"
    }
   ],
   "source": [
    "fig, axes = plt.subplots(3, 2, figsize=(18, 15))\n",
    "fig.suptitle('User Online Behavior and Ad Interaction Metrics')\n",
    "\n",
    "sns.histplot(ax=axes[0,0],x=\"Time Spent Online (hrs/weekday)\",data=data,bins=20,kde=True,color=\"tomato\")\n",
    "axes[0, 0].set_title('Time Spent Online on Weekdays')\n",
    "\n",
    "sns.histplot(ax=axes[0,1],x=\"Time Spent Online (hrs/weekend)\",data=data,bins=20,kde=True,color=\"yellow\")\n",
    "axes[0, 1].set_title('Time Spent Online on Weekends')\n",
    "\n",
    "sns.histplot(ax=axes[1,0],x=\"Likes and Reactions\",data=data,bins=20,kde=True,color=\"orange\")\n",
    "axes[1, 0].set_title('Likes and Reactions')\n",
    "\n",
    "sns.histplot(ax=axes[1,1],x=\"Click-Through Rates (CTR)\",data=data,bins=20,kde=True,color=\"tomato\")\n",
    "axes[1,1].set_title('CTR')\n",
    "\n",
    "sns.histplot(ax=axes[2,0],x=\"Conversion Rates\",data=data,bins=20,kde=True,color=\"lightblue\")\n",
    "axes[2, 0].set_title('Conversion Rates')\n",
    "\n",
    "sns.histplot(ax=axes[2,1],x=\"Ad Interaction Time (sec)\",data=data,bins=20,kde=True,color=\"purple\")\n",
    "axes[2, 1].set_title('Ad Interaction Time (sec)')\n"
   ]
  },
  {
   "cell_type": "code",
   "execution_count": 10,
   "id": "39364278",
   "metadata": {},
   "outputs": [],
   "source": [
    "from collections import Counter"
   ]
  },
  {
   "cell_type": "code",
   "execution_count": 16,
   "id": "45e9bc9c",
   "metadata": {},
   "outputs": [],
   "source": [
    "intrest=data[\"Top Interests\"].str.split(\", \").sum()"
   ]
  },
  {
   "cell_type": "code",
   "execution_count": 18,
   "id": "66d684e2",
   "metadata": {},
   "outputs": [],
   "source": [
    "intrest_count=Counter(intrest)"
   ]
  },
  {
   "cell_type": "code",
   "execution_count": 19,
   "id": "ca5b71d7",
   "metadata": {},
   "outputs": [
    {
     "data": {
      "text/plain": [
       "Counter({'Digital Marketing': 182,\n",
       "         'Data Science': 147,\n",
       "         'Fitness and Wellness': 167,\n",
       "         'Gaming': 155,\n",
       "         'DIY Crafts': 148,\n",
       "         'Investing and Finance': 171,\n",
       "         'Gardening': 140,\n",
       "         'Music Production': 169,\n",
       "         'Gourmet Cooking': 157,\n",
       "         'Software Engineering': 151,\n",
       "         'Eco-Friendly Living': 163,\n",
       "         'Photography': 148,\n",
       "         'Travel and Adventure': 152,\n",
       "         'Fashion Modelling': 161,\n",
       "         'Reading and Literature': 156,\n",
       "         'Pet Care': 155})"
      ]
     },
     "execution_count": 19,
     "metadata": {},
     "output_type": "execute_result"
    }
   ],
   "source": [
    "intrest_count"
   ]
  },
  {
   "cell_type": "code",
   "execution_count": 21,
   "id": "bd5fe21c",
   "metadata": {},
   "outputs": [],
   "source": [
    "intrest_df=pd.DataFrame(intrest_count.items(),columns=[\"Intrest\",\"Frequency\"]).sort_values(by=\"Frequency\",ascending=False)"
   ]
  },
  {
   "cell_type": "code",
   "execution_count": 25,
   "id": "cf876a3a",
   "metadata": {},
   "outputs": [
    {
     "data": {
      "text/html": [
       "<div>\n",
       "<style scoped>\n",
       "    .dataframe tbody tr th:only-of-type {\n",
       "        vertical-align: middle;\n",
       "    }\n",
       "\n",
       "    .dataframe tbody tr th {\n",
       "        vertical-align: top;\n",
       "    }\n",
       "\n",
       "    .dataframe thead th {\n",
       "        text-align: right;\n",
       "    }\n",
       "</style>\n",
       "<table border=\"1\" class=\"dataframe\">\n",
       "  <thead>\n",
       "    <tr style=\"text-align: right;\">\n",
       "      <th></th>\n",
       "      <th>Intrest</th>\n",
       "      <th>Frequency</th>\n",
       "    </tr>\n",
       "  </thead>\n",
       "  <tbody>\n",
       "    <tr>\n",
       "      <th>0</th>\n",
       "      <td>Digital Marketing</td>\n",
       "      <td>182</td>\n",
       "    </tr>\n",
       "    <tr>\n",
       "      <th>5</th>\n",
       "      <td>Investing and Finance</td>\n",
       "      <td>171</td>\n",
       "    </tr>\n",
       "    <tr>\n",
       "      <th>7</th>\n",
       "      <td>Music Production</td>\n",
       "      <td>169</td>\n",
       "    </tr>\n",
       "    <tr>\n",
       "      <th>2</th>\n",
       "      <td>Fitness and Wellness</td>\n",
       "      <td>167</td>\n",
       "    </tr>\n",
       "    <tr>\n",
       "      <th>10</th>\n",
       "      <td>Eco-Friendly Living</td>\n",
       "      <td>163</td>\n",
       "    </tr>\n",
       "  </tbody>\n",
       "</table>\n",
       "</div>"
      ],
      "text/plain": [
       "                  Intrest  Frequency\n",
       "0       Digital Marketing        182\n",
       "5   Investing and Finance        171\n",
       "7        Music Production        169\n",
       "2    Fitness and Wellness        167\n",
       "10    Eco-Friendly Living        163"
      ]
     },
     "execution_count": 25,
     "metadata": {},
     "output_type": "execute_result"
    }
   ],
   "source": [
    "intrest_df.head()"
   ]
  },
  {
   "cell_type": "code",
   "execution_count": 27,
   "id": "0e3323ce",
   "metadata": {},
   "outputs": [
    {
     "data": {
      "image/png": "[encoded data removed]",
      "text/plain": [
       "<Figure size 1200x1000 with 1 Axes>"
      ]
     },
     "metadata": {},
     "output_type": "display_data"
    }
   ],
   "source": [
    "plt.figure(figsize=(12,10))\n",
    "sns.barplot(x=\"Frequency\",y=\"Intrest\",data=intrest_df.head(10),palette=\"pastel\")\n",
    "plt.title('Top 10 User Interests')\n",
    "plt.xlabel('Frequency')\n",
    "plt.ylabel('Interest')\n",
    "plt.show()"
   ]
  },
  {
   "cell_type": "code",
   "execution_count": 94,
   "id": "e90b7b5c",
   "metadata": {},
   "outputs": [],
   "source": [
    "from sklearn.preprocessing import StandardScaler, OneHotEncoder\n",
    "from sklearn.compose import ColumnTransformer\n",
    "features = ['Age', 'Gender', 'Income Level', 'Time Spent Online (hrs/weekday)', 'Time Spent Online (hrs/weekend)', 'Likes and Reactions', 'Click-Through Rates (CTR)']\n",
    "x=data[features]\n",
    "numeric_features=['Time Spent Online (hrs/weekday)', 'Time Spent Online (hrs/weekend)', 'Likes and Reactions', 'Click-Through Rates (CTR)']\n",
    "numeric_transformer=StandardScaler()\n",
    "categorical_features=['Age','Gender','Income Level']\n",
    "categorical_transformer=OneHotEncoder()\n",
    "\n",
    "preprocessor=ColumnTransformer(transformers=[(\"num\",numeric_transformer,numeric_features),\n",
    "                              ('cat', categorical_transformer, categorical_features)])"
   ]
  },
  {
   "cell_type": "code",
   "execution_count": 95,
   "id": "d0203bf3",
   "metadata": {},
   "outputs": [
    {
     "data": {
      "text/html": [
       "<div>\n",
       "<style scoped>\n",
       "    .dataframe tbody tr th:only-of-type {\n",
       "        vertical-align: middle;\n",
       "    }\n",
       "\n",
       "    .dataframe tbody tr th {\n",
       "        vertical-align: top;\n",
       "    }\n",
       "\n",
       "    .dataframe thead th {\n",
       "        text-align: right;\n",
       "    }\n",
       "</style>\n",
       "<table border=\"1\" class=\"dataframe\">\n",
       "  <thead>\n",
       "    <tr style=\"text-align: right;\">\n",
       "      <th></th>\n",
       "      <th>User ID</th>\n",
       "      <th>Age</th>\n",
       "      <th>Gender</th>\n",
       "      <th>Location</th>\n",
       "      <th>Language</th>\n",
       "      <th>Education Level</th>\n",
       "      <th>Likes and Reactions</th>\n",
       "      <th>Followed Accounts</th>\n",
       "      <th>Device Usage</th>\n",
       "      <th>Time Spent Online (hrs/weekday)</th>\n",
       "      <th>Time Spent Online (hrs/weekend)</th>\n",
       "      <th>Click-Through Rates (CTR)</th>\n",
       "      <th>Conversion Rates</th>\n",
       "      <th>Ad Interaction Time (sec)</th>\n",
       "      <th>Income Level</th>\n",
       "      <th>Top Interests</th>\n",
       "      <th>Cluster</th>\n",
       "    </tr>\n",
       "  </thead>\n",
       "  <tbody>\n",
       "    <tr>\n",
       "      <th>0</th>\n",
       "      <td>1</td>\n",
       "      <td>25-34</td>\n",
       "      <td>Female</td>\n",
       "      <td>Suburban</td>\n",
       "      <td>Hindi</td>\n",
       "      <td>Technical</td>\n",
       "      <td>5640</td>\n",
       "      <td>190</td>\n",
       "      <td>Mobile Only</td>\n",
       "      <td>4.5</td>\n",
       "      <td>1.7</td>\n",
       "      <td>0.193</td>\n",
       "      <td>0.067</td>\n",
       "      <td>25</td>\n",
       "      <td>20k-40k</td>\n",
       "      <td>Digital Marketing</td>\n",
       "      <td>1</td>\n",
       "    </tr>\n",
       "    <tr>\n",
       "      <th>1</th>\n",
       "      <td>2</td>\n",
       "      <td>65+</td>\n",
       "      <td>Male</td>\n",
       "      <td>Urban</td>\n",
       "      <td>Hindi</td>\n",
       "      <td>PhD</td>\n",
       "      <td>9501</td>\n",
       "      <td>375</td>\n",
       "      <td>Tablet</td>\n",
       "      <td>0.5</td>\n",
       "      <td>7.7</td>\n",
       "      <td>0.114</td>\n",
       "      <td>0.044</td>\n",
       "      <td>68</td>\n",
       "      <td>0-20k</td>\n",
       "      <td>Data Science</td>\n",
       "      <td>0</td>\n",
       "    </tr>\n",
       "    <tr>\n",
       "      <th>2</th>\n",
       "      <td>3</td>\n",
       "      <td>45-54</td>\n",
       "      <td>Female</td>\n",
       "      <td>Suburban</td>\n",
       "      <td>Spanish</td>\n",
       "      <td>Technical</td>\n",
       "      <td>4775</td>\n",
       "      <td>187</td>\n",
       "      <td>Mobile Only</td>\n",
       "      <td>4.5</td>\n",
       "      <td>5.6</td>\n",
       "      <td>0.153</td>\n",
       "      <td>0.095</td>\n",
       "      <td>80</td>\n",
       "      <td>60k-80k</td>\n",
       "      <td>Fitness and Wellness</td>\n",
       "      <td>3</td>\n",
       "    </tr>\n",
       "    <tr>\n",
       "      <th>3</th>\n",
       "      <td>4</td>\n",
       "      <td>35-44</td>\n",
       "      <td>Female</td>\n",
       "      <td>Rural</td>\n",
       "      <td>Spanish</td>\n",
       "      <td>PhD</td>\n",
       "      <td>9182</td>\n",
       "      <td>152</td>\n",
       "      <td>Desktop Only</td>\n",
       "      <td>3.1</td>\n",
       "      <td>4.2</td>\n",
       "      <td>0.093</td>\n",
       "      <td>0.061</td>\n",
       "      <td>65</td>\n",
       "      <td>100k+</td>\n",
       "      <td>Gaming, DIY Crafts</td>\n",
       "      <td>1</td>\n",
       "    </tr>\n",
       "    <tr>\n",
       "      <th>4</th>\n",
       "      <td>5</td>\n",
       "      <td>25-34</td>\n",
       "      <td>Female</td>\n",
       "      <td>Urban</td>\n",
       "      <td>English</td>\n",
       "      <td>Technical</td>\n",
       "      <td>6848</td>\n",
       "      <td>371</td>\n",
       "      <td>Mobile Only</td>\n",
       "      <td>2.0</td>\n",
       "      <td>3.8</td>\n",
       "      <td>0.175</td>\n",
       "      <td>0.022</td>\n",
       "      <td>99</td>\n",
       "      <td>20k-40k</td>\n",
       "      <td>Fitness and Wellness, Investing and Finance, G...</td>\n",
       "      <td>1</td>\n",
       "    </tr>\n",
       "  </tbody>\n",
       "</table>\n",
       "</div>"
      ],
      "text/plain": [
       "   User ID    Age  Gender  Location Language Education Level  \\\n",
       "0        1  25-34  Female  Suburban    Hindi       Technical   \n",
       "1        2    65+    Male     Urban    Hindi             PhD   \n",
       "2        3  45-54  Female  Suburban  Spanish       Technical   \n",
       "3        4  35-44  Female     Rural  Spanish             PhD   \n",
       "4        5  25-34  Female     Urban  English       Technical   \n",
       "\n",
       "   Likes and Reactions  Followed Accounts  Device Usage  \\\n",
       "0                 5640                190   Mobile Only   \n",
       "1                 9501                375        Tablet   \n",
       "2                 4775                187   Mobile Only   \n",
       "3                 9182                152  Desktop Only   \n",
       "4                 6848                371   Mobile Only   \n",
       "\n",
       "   Time Spent Online (hrs/weekday)  Time Spent Online (hrs/weekend)  \\\n",
       "0                              4.5                              1.7   \n",
       "1                              0.5                              7.7   \n",
       "2                              4.5                              5.6   \n",
       "3                              3.1                              4.2   \n",
       "4                              2.0                              3.8   \n",
       "\n",
       "   Click-Through Rates (CTR)  Conversion Rates  Ad Interaction Time (sec)  \\\n",
       "0                      0.193             0.067                         25   \n",
       "1                      0.114             0.044                         68   \n",
       "2                      0.153             0.095                         80   \n",
       "3                      0.093             0.061                         65   \n",
       "4                      0.175             0.022                         99   \n",
       "\n",
       "  Income Level                                      Top Interests  Cluster  \n",
       "0      20k-40k                                  Digital Marketing        1  \n",
       "1        0-20k                                       Data Science        0  \n",
       "2      60k-80k                               Fitness and Wellness        3  \n",
       "3        100k+                                 Gaming, DIY Crafts        1  \n",
       "4      20k-40k  Fitness and Wellness, Investing and Finance, G...        1  "
      ]
     },
     "execution_count": 95,
     "metadata": {},
     "output_type": "execute_result"
    }
   ],
   "source": [
    "from sklearn.pipeline import Pipeline\n",
    "from sklearn.cluster import KMeans\n",
    "\n",
    "pipeline=Pipeline(steps=[(\"preprocessor\",preprocessor),\n",
    "                        (\"cluster\",KMeans(n_clusters=5,random_state=42))])\n",
    "pipeline.fit(x)\n",
    "cluster_labels=pipeline.named_steps[\"cluster\"].labels_\n",
    "data[\"Cluster\"]=cluster_labels\n",
    "data.head()"
   ]
  },
  {
   "cell_type": "code",
   "execution_count": 96,
   "id": "5e3b2e8d",
   "metadata": {},
   "outputs": [],
   "source": [
    "cluster_mean=data.groupby(\"Cluster\")[numeric_features].mean()\n",
    "for feature in categorical_features:\n",
    "    mode_series=data.groupby(\"Cluster\")[feature].agg(lambda x:x.mode()[0])\n",
    "    cluster_mean[feature]=mode_series"
   ]
  },
  {
   "cell_type": "code",
   "execution_count": 97,
   "id": "5805f0fb",
   "metadata": {},
   "outputs": [
    {
     "data": {
      "text/html": [
       "<div>\n",
       "<style scoped>\n",
       "    .dataframe tbody tr th:only-of-type {\n",
       "        vertical-align: middle;\n",
       "    }\n",
       "\n",
       "    .dataframe tbody tr th {\n",
       "        vertical-align: top;\n",
       "    }\n",
       "\n",
       "    .dataframe thead th {\n",
       "        text-align: right;\n",
       "    }\n",
       "</style>\n",
       "<table border=\"1\" class=\"dataframe\">\n",
       "  <thead>\n",
       "    <tr style=\"text-align: right;\">\n",
       "      <th></th>\n",
       "      <th>Time Spent Online (hrs/weekday)</th>\n",
       "      <th>Time Spent Online (hrs/weekend)</th>\n",
       "      <th>Likes and Reactions</th>\n",
       "      <th>Click-Through Rates (CTR)</th>\n",
       "      <th>Age</th>\n",
       "      <th>Gender</th>\n",
       "      <th>Income Level</th>\n",
       "    </tr>\n",
       "    <tr>\n",
       "      <th>Cluster</th>\n",
       "      <th></th>\n",
       "      <th></th>\n",
       "      <th></th>\n",
       "      <th></th>\n",
       "      <th></th>\n",
       "      <th></th>\n",
       "      <th></th>\n",
       "    </tr>\n",
       "  </thead>\n",
       "  <tbody>\n",
       "    <tr>\n",
       "      <th>0</th>\n",
       "      <td>1.632955</td>\n",
       "      <td>6.135795</td>\n",
       "      <td>5480.022727</td>\n",
       "      <td>0.173705</td>\n",
       "      <td>25-34</td>\n",
       "      <td>Male</td>\n",
       "      <td>80k-100k</td>\n",
       "    </tr>\n",
       "    <tr>\n",
       "      <th>1</th>\n",
       "      <td>2.937500</td>\n",
       "      <td>2.735000</td>\n",
       "      <td>7462.233333</td>\n",
       "      <td>0.152983</td>\n",
       "      <td>25-34</td>\n",
       "      <td>Male</td>\n",
       "      <td>100k+</td>\n",
       "    </tr>\n",
       "    <tr>\n",
       "      <th>2</th>\n",
       "      <td>3.364532</td>\n",
       "      <td>6.151724</td>\n",
       "      <td>5997.108374</td>\n",
       "      <td>0.058502</td>\n",
       "      <td>25-34</td>\n",
       "      <td>Male</td>\n",
       "      <td>60k-80k</td>\n",
       "    </tr>\n",
       "    <tr>\n",
       "      <th>3</th>\n",
       "      <td>3.872986</td>\n",
       "      <td>4.624171</td>\n",
       "      <td>2409.625592</td>\n",
       "      <td>0.167123</td>\n",
       "      <td>25-34</td>\n",
       "      <td>Female</td>\n",
       "      <td>60k-80k</td>\n",
       "    </tr>\n",
       "    <tr>\n",
       "      <th>4</th>\n",
       "      <td>1.558235</td>\n",
       "      <td>3.769412</td>\n",
       "      <td>3034.235294</td>\n",
       "      <td>0.064153</td>\n",
       "      <td>25-34</td>\n",
       "      <td>Female</td>\n",
       "      <td>0-20k</td>\n",
       "    </tr>\n",
       "  </tbody>\n",
       "</table>\n",
       "</div>"
      ],
      "text/plain": [
       "         Time Spent Online (hrs/weekday)  Time Spent Online (hrs/weekend)  \\\n",
       "Cluster                                                                     \n",
       "0                               1.632955                         6.135795   \n",
       "1                               2.937500                         2.735000   \n",
       "2                               3.364532                         6.151724   \n",
       "3                               3.872986                         4.624171   \n",
       "4                               1.558235                         3.769412   \n",
       "\n",
       "         Likes and Reactions  Click-Through Rates (CTR)    Age  Gender  \\\n",
       "Cluster                                                                  \n",
       "0                5480.022727                   0.173705  25-34    Male   \n",
       "1                7462.233333                   0.152983  25-34    Male   \n",
       "2                5997.108374                   0.058502  25-34    Male   \n",
       "3                2409.625592                   0.167123  25-34  Female   \n",
       "4                3034.235294                   0.064153  25-34  Female   \n",
       "\n",
       "        Income Level  \n",
       "Cluster               \n",
       "0           80k-100k  \n",
       "1              100k+  \n",
       "2            60k-80k  \n",
       "3            60k-80k  \n",
       "4              0-20k  "
      ]
     },
     "execution_count": 97,
     "metadata": {},
     "output_type": "execute_result"
    }
   ],
   "source": [
    "cluster_mean"
   ]
  },
  {
   "cell_type": "code",
   "execution_count": 98,
   "id": "6b5af2d8",
   "metadata": {},
   "outputs": [],
   "source": [
    "import numpy as np\n",
    "feature_plot=['Time Spent Online (hrs/weekday)', 'Time Spent Online (hrs/weekend)', 'Likes and Reactions', 'Click-Through Rates (CTR)']\n",
    "labels=np.array(feature_plot)             \n",
    "radar_df=cluster_mean[feature_plot].reset_index()    "
   ]
  },
  {
   "cell_type": "code",
   "execution_count": 110,
   "id": "9914f077",
   "metadata": {},
   "outputs": [],
   "source": [
    "radar_df_normalized = radar_df.copy()\n",
    "for feature in feature_plot:\n",
    "        radar_df_normalized[feature] = (radar_df[feature] - radar_df[feature].min()) / (radar_df[feature].max() - radar_df[feature].min())"
   ]
  },
  {
   "cell_type": "code",
   "execution_count": 111,
   "id": "55ccb1a6",
   "metadata": {},
   "outputs": [
    {
     "name": "stderr",
     "output_type": "stream",
     "text": [
      "C:\\Users\\nisik\\AppData\\Local\\Temp\\ipykernel_4228\\2354832324.py:1: FutureWarning:\n",
      "\n",
      "The frame.append method is deprecated and will be removed from pandas in a future version. Use pandas.concat instead.\n",
      "\n"
     ]
    }
   ],
   "source": [
    "radar_df_normalized=radar_df_normalized.append(radar_df_normalized.iloc[0])"
   ]
  },
  {
   "cell_type": "code",
   "execution_count": 112,
   "id": "c92c9a4e",
   "metadata": {},
   "outputs": [],
   "source": [
    "segment_names=[\"Weekend People\",\"Business Buddies\",\"Laid-back Surfers\",\"Active Explorers\",\"Penny Pinchers\"]"
   ]
  },
  {
   "cell_type": "code",
   "execution_count": 113,
   "id": "0a55eada",
   "metadata": {},
   "outputs": [
    {
     "data": {
      "application/vnd.plotly.v1+json": {
       "config": {
        "plotlyServerURL": "https://plot.ly"
       },
       "data": [
        {
         "fill": "toself",
         "hoverinfo": "text",
         "name": "Weekend People",
         "r": [
          0.03227961360343471,
          0.9953380247445951,
          0.6076856333000947,
          1,
          0.03227961360343471
         ],
         "text": [
          "Time Spent Online (hrs/weekday): 0.03",
          "Time Spent Online (hrs/weekend): 1.00",
          "Likes and Reactions: 0.61",
          "Click-Through Rates (CTR): 1.00",
          "Time Spent Online (hrs/weekday): 0.03"
         ],
         "theta": [
          "Time Spent Online (hrs/weekday)",
          "Time Spent Online (hrs/weekend)",
          "Likes and Reactions",
          "Click-Through Rates (CTR)",
          "Time Spent Online (hrs/weekday)"
         ],
         "type": "scatterpolar"
        },
        {
         "fill": "toself",
         "hoverinfo": "text",
         "name": "Business Buddies",
         "r": [
          0.5958589114068271,
          0,
          1,
          0.8201316183747415,
          0.5958589114068271
         ],
         "text": [
          "Time Spent Online (hrs/weekday): 0.60",
          "Time Spent Online (hrs/weekend): 0.00",
          "Likes and Reactions: 1.00",
          "Click-Through Rates (CTR): 0.82",
          "Time Spent Online (hrs/weekday): 0.60"
         ],
         "theta": [
          "Time Spent Online (hrs/weekday)",
          "Time Spent Online (hrs/weekend)",
          "Likes and Reactions",
          "Click-Through Rates (CTR)",
          "Time Spent Online (hrs/weekday)"
         ],
         "type": "scatterpolar"
        },
        {
         "fill": "toself",
         "hoverinfo": "text",
         "name": "Laid-back Surfers",
         "r": [
          0.7803418705601707,
          1,
          0.7100259837935882,
          0,
          0.7803418705601707
         ],
         "text": [
          "Time Spent Online (hrs/weekday): 0.78",
          "Time Spent Online (hrs/weekend): 1.00",
          "Likes and Reactions: 0.71",
          "Click-Through Rates (CTR): 0.00",
          "Time Spent Online (hrs/weekday): 0.78"
         ],
         "theta": [
          "Time Spent Online (hrs/weekday)",
          "Time Spent Online (hrs/weekend)",
          "Likes and Reactions",
          "Click-Through Rates (CTR)",
          "Time Spent Online (hrs/weekday)"
         ],
         "type": "scatterpolar"
        },
        {
         "fill": "toself",
         "hoverinfo": "text",
         "name": "Active Explorers",
         "r": [
          1,
          0.5529186846374183,
          0,
          0.9428714953011144,
          1
         ],
         "text": [
          "Time Spent Online (hrs/weekday): 1.00",
          "Time Spent Online (hrs/weekend): 0.55",
          "Likes and Reactions: 0.00",
          "Click-Through Rates (CTR): 0.94",
          "Time Spent Online (hrs/weekday): 1.00"
         ],
         "theta": [
          "Time Spent Online (hrs/weekday)",
          "Time Spent Online (hrs/weekend)",
          "Likes and Reactions",
          "Click-Through Rates (CTR)",
          "Time Spent Online (hrs/weekday)"
         ],
         "type": "scatterpolar"
        },
        {
         "fill": "toself",
         "hoverinfo": "text",
         "name": "Penny Pinchers",
         "r": [
          0,
          0.3027495703332551,
          0.12362125336634876,
          0.04904840263777935,
          0
         ],
         "text": [
          "Time Spent Online (hrs/weekday): 0.00",
          "Time Spent Online (hrs/weekend): 0.30",
          "Likes and Reactions: 0.12",
          "Click-Through Rates (CTR): 0.05",
          "Time Spent Online (hrs/weekday): 0.00"
         ],
         "theta": [
          "Time Spent Online (hrs/weekday)",
          "Time Spent Online (hrs/weekend)",
          "Likes and Reactions",
          "Click-Through Rates (CTR)",
          "Time Spent Online (hrs/weekday)"
         ],
         "type": "scatterpolar"
        }
       ],
       "layout": {
        "polar": {
         "radialaxis": {
          "range": [
           0,
           1
          ],
          "visible": true
         }
        },
        "showlegend": true,
        "template": {
         "data": {
          "bar": [
           {
            "error_x": {
             "color": "#2a3f5f"
            },
            "error_y": {
             "color": "#2a3f5f"
            },
            "marker": {
             "line": {
              "color": "#E5ECF6",
              "width": 0.5
             },
             "pattern": {
              "fillmode": "overlay",
              "size": 10,
              "solidity": 0.2
             }
            },
            "type": "bar"
           }
          ],
          "barpolar": [
           {
            "marker": {
             "line": {
              "color": "#E5ECF6",
              "width": 0.5
             },
             "pattern": {
              "fillmode": "overlay",
              "size": 10,
              "solidity": 0.2
             }
            },
            "type": "barpolar"
           }
          ],
          "carpet": [
           {
            "aaxis": {
             "endlinecolor": "#2a3f5f",
             "gridcolor": "white",
             "linecolor": "white",
             "minorgridcolor": "white",
             "startlinecolor": "#2a3f5f"
            },
            "baxis": {
             "endlinecolor": "#2a3f5f",
             "gridcolor": "white",
             "linecolor": "white",
             "minorgridcolor": "white",
             "startlinecolor": "#2a3f5f"
            },
            "type": "carpet"
           }
          ],
          "choropleth": [
           {
            "colorbar": {
             "outlinewidth": 0,
             "ticks": ""
            },
            "type": "choropleth"
           }
          ],
          "contour": [
           {
            "colorbar": {
             "outlinewidth": 0,
             "ticks": ""
            },
            "colorscale": [
             [
              0,
              "#0d0887"
             ],
             [
              0.1111111111111111,
              "#46039f"
             ],
             [
              0.2222222222222222,
              "#7201a8"
             ],
             [
              0.3333333333333333,
              "#9c179e"
             ],
             [
              0.4444444444444444,
              "#bd3786"
             ],
             [
              0.5555555555555556,
              "#d8576b"
             ],
             [
              0.6666666666666666,
              "#ed7953"
             ],
             [
              0.7777777777777778,
              "#fb9f3a"
             ],
             [
              0.8888888888888888,
              "#fdca26"
             ],
             [
              1,
              "#f0f921"
             ]
            ],
            "type": "contour"
           }
          ],
          "contourcarpet": [
           {
            "colorbar": {
             "outlinewidth": 0,
             "ticks": ""
            },
            "type": "contourcarpet"
           }
          ],
          "heatmap": [
           {
            "colorbar": {
             "outlinewidth": 0,
             "ticks": ""
            },
            "colorscale": [
             [
              0,
              "#0d0887"
             ],
             [
              0.1111111111111111,
              "#46039f"
             ],
             [
              0.2222222222222222,
              "#7201a8"
             ],
             [
              0.3333333333333333,
              "#9c179e"
             ],
             [
              0.4444444444444444,
              "#bd3786"
             ],
             [
              0.5555555555555556,
              "#d8576b"
             ],
             [
              0.6666666666666666,
              "#ed7953"
             ],
             [
              0.7777777777777778,
              "#fb9f3a"
             ],
             [
              0.8888888888888888,
              "#fdca26"
             ],
             [
              1,
              "#f0f921"
             ]
            ],
            "type": "heatmap"
           }
          ],
          "heatmapgl": [
           {
            "colorbar": {
             "outlinewidth": 0,
             "ticks": ""
            },
            "colorscale": [
             [
              0,
              "#0d0887"
             ],
             [
              0.1111111111111111,
              "#46039f"
             ],
             [
              0.2222222222222222,
              "#7201a8"
             ],
             [
              0.3333333333333333,
              "#9c179e"
             ],
             [
              0.4444444444444444,
              "#bd3786"
             ],
             [
              0.5555555555555556,
              "#d8576b"
             ],
             [
              0.6666666666666666,
              "#ed7953"
             ],
             [
              0.7777777777777778,
              "#fb9f3a"
             ],
             [
              0.8888888888888888,
              "#fdca26"
             ],
             [
              1,
              "#f0f921"
             ]
            ],
            "type": "heatmapgl"
           }
          ],
          "histogram": [
           {
            "marker": {
             "pattern": {
              "fillmode": "overlay",
              "size": 10,
              "solidity": 0.2
             }
            },
            "type": "histogram"
           }
          ],
          "histogram2d": [
           {
            "colorbar": {
             "outlinewidth": 0,
             "ticks": ""
            },
            "colorscale": [
             [
              0,
              "#0d0887"
             ],
             [
              0.1111111111111111,
              "#46039f"
             ],
             [
              0.2222222222222222,
              "#7201a8"
             ],
             [
              0.3333333333333333,
              "#9c179e"
             ],
             [
              0.4444444444444444,
              "#bd3786"
             ],
             [
              0.5555555555555556,
              "#d8576b"
             ],
             [
              0.6666666666666666,
              "#ed7953"
             ],
             [
              0.7777777777777778,
              "#fb9f3a"
             ],
             [
              0.8888888888888888,
              "#fdca26"
             ],
             [
              1,
              "#f0f921"
             ]
            ],
            "type": "histogram2d"
           }
          ],
          "histogram2dcontour": [
           {
            "colorbar": {
             "outlinewidth": 0,
             "ticks": ""
            },
            "colorscale": [
             [
              0,
              "#0d0887"
             ],
             [
              0.1111111111111111,
              "#46039f"
             ],
             [
              0.2222222222222222,
              "#7201a8"
             ],
             [
              0.3333333333333333,
              "#9c179e"
             ],
             [
              0.4444444444444444,
              "#bd3786"
             ],
             [
              0.5555555555555556,
              "#d8576b"
             ],
             [
              0.6666666666666666,
              "#ed7953"
             ],
             [
              0.7777777777777778,
              "#fb9f3a"
             ],
             [
              0.8888888888888888,
              "#fdca26"
             ],
             [
              1,
              "#f0f921"
             ]
            ],
            "type": "histogram2dcontour"
           }
          ],
          "mesh3d": [
           {
            "colorbar": {
             "outlinewidth": 0,
             "ticks": ""
            },
            "type": "mesh3d"
           }
          ],
          "parcoords": [
           {
            "line": {
             "colorbar": {
              "outlinewidth": 0,
              "ticks": ""
             }
            },
            "type": "parcoords"
           }
          ],
          "pie": [
           {
            "automargin": true,
            "type": "pie"
           }
          ],
          "scatter": [
           {
            "fillpattern": {
             "fillmode": "overlay",
             "size": 10,
             "solidity": 0.2
            },
            "type": "scatter"
           }
          ],
          "scatter3d": [
           {
            "line": {
             "colorbar": {
              "outlinewidth": 0,
              "ticks": ""
             }
            },
            "marker": {
             "colorbar": {
              "outlinewidth": 0,
              "ticks": ""
             }
            },
            "type": "scatter3d"
           }
          ],
          "scattercarpet": [
           {
            "marker": {
             "colorbar": {
              "outlinewidth": 0,
              "ticks": ""
             }
            },
            "type": "scattercarpet"
           }
          ],
          "scattergeo": [
           {
            "marker": {
             "colorbar": {
              "outlinewidth": 0,
              "ticks": ""
             }
            },
            "type": "scattergeo"
           }
          ],
          "scattergl": [
           {
            "marker": {
             "colorbar": {
              "outlinewidth": 0,
              "ticks": ""
             }
            },
            "type": "scattergl"
           }
          ],
          "scattermapbox": [
           {
            "marker": {
             "colorbar": {
              "outlinewidth": 0,
              "ticks": ""
             }
            },
            "type": "scattermapbox"
           }
          ],
          "scatterpolar": [
           {
            "marker": {
             "colorbar": {
              "outlinewidth": 0,
              "ticks": ""
             }
            },
            "type": "scatterpolar"
           }
          ],
          "scatterpolargl": [
           {
            "marker": {
             "colorbar": {
              "outlinewidth": 0,
              "ticks": ""
             }
            },
            "type": "scatterpolargl"
           }
          ],
          "scatterternary": [
           {
            "marker": {
             "colorbar": {
              "outlinewidth": 0,
              "ticks": ""
             }
            },
            "type": "scatterternary"
           }
          ],
          "surface": [
           {
            "colorbar": {
             "outlinewidth": 0,
             "ticks": ""
            },
            "colorscale": [
             [
              0,
              "#0d0887"
             ],
             [
              0.1111111111111111,
              "#46039f"
             ],
             [
              0.2222222222222222,
              "#7201a8"
             ],
             [
              0.3333333333333333,
              "#9c179e"
             ],
             [
              0.4444444444444444,
              "#bd3786"
             ],
             [
              0.5555555555555556,
              "#d8576b"
             ],
             [
              0.6666666666666666,
              "#ed7953"
             ],
             [
              0.7777777777777778,
              "#fb9f3a"
             ],
             [
              0.8888888888888888,
              "#fdca26"
             ],
             [
              1,
              "#f0f921"
             ]
            ],
            "type": "surface"
           }
          ],
          "table": [
           {
            "cells": {
             "fill": {
              "color": "#EBF0F8"
             },
             "line": {
              "color": "white"
             }
            },
            "header": {
             "fill": {
              "color": "#C8D4E3"
             },
             "line": {
              "color": "white"
             }
            },
            "type": "table"
           }
          ]
         },
         "layout": {
          "annotationdefaults": {
           "arrowcolor": "#2a3f5f",
           "arrowhead": 0,
           "arrowwidth": 1
          },
          "autotypenumbers": "strict",
          "coloraxis": {
           "colorbar": {
            "outlinewidth": 0,
            "ticks": ""
           }
          },
          "colorscale": {
           "diverging": [
            [
             0,
             "#8e0152"
            ],
            [
             0.1,
             "#c51b7d"
            ],
            [
             0.2,
             "#de77ae"
            ],
            [
             0.3,
             "#f1b6da"
            ],
            [
             0.4,
             "#fde0ef"
            ],
            [
             0.5,
             "#f7f7f7"
            ],
            [
             0.6,
             "#e6f5d0"
            ],
            [
             0.7,
             "#b8e186"
            ],
            [
             0.8,
             "#7fbc41"
            ],
            [
             0.9,
             "#4d9221"
            ],
            [
             1,
             "#276419"
            ]
           ],
           "sequential": [
            [
             0,
             "#0d0887"
            ],
            [
             0.1111111111111111,
             "#46039f"
            ],
            [
             0.2222222222222222,
             "#7201a8"
            ],
            [
             0.3333333333333333,
             "#9c179e"
            ],
            [
             0.4444444444444444,
             "#bd3786"
            ],
            [
             0.5555555555555556,
             "#d8576b"
            ],
            [
             0.6666666666666666,
             "#ed7953"
            ],
            [
             0.7777777777777778,
             "#fb9f3a"
            ],
            [
             0.8888888888888888,
             "#fdca26"
            ],
            [
             1,
             "#f0f921"
            ]
           ],
           "sequentialminus": [
            [
             0,
             "#0d0887"
            ],
            [
             0.1111111111111111,
             "#46039f"
            ],
            [
             0.2222222222222222,
             "#7201a8"
            ],
            [
             0.3333333333333333,
             "#9c179e"
            ],
            [
             0.4444444444444444,
             "#bd3786"
            ],
            [
             0.5555555555555556,
             "#d8576b"
            ],
            [
             0.6666666666666666,
             "#ed7953"
            ],
            [
             0.7777777777777778,
             "#fb9f3a"
            ],
            [
             0.8888888888888888,
             "#fdca26"
            ],
            [
             1,
             "#f0f921"
            ]
           ]
          },
          "colorway": [
           "#636efa",
           "#EF553B",
           "#00cc96",
           "#ab63fa",
           "#FFA15A",
           "#19d3f3",
           "#FF6692",
           "#B6E880",
           "#FF97FF",
           "#FECB52"
          ],
          "font": {
           "color": "#2a3f5f"
          },
          "geo": {
           "bgcolor": "white",
           "lakecolor": "white",
           "landcolor": "#E5ECF6",
           "showlakes": true,
           "showland": true,
           "subunitcolor": "white"
          },
          "hoverlabel": {
           "align": "left"
          },
          "hovermode": "closest",
          "mapbox": {
           "style": "light"
          },
          "paper_bgcolor": "white",
          "plot_bgcolor": "#E5ECF6",
          "polar": {
           "angularaxis": {
            "gridcolor": "white",
            "linecolor": "white",
            "ticks": ""
           },
           "bgcolor": "#E5ECF6",
           "radialaxis": {
            "gridcolor": "white",
            "linecolor": "white",
            "ticks": ""
           }
          },
          "scene": {
           "xaxis": {
            "backgroundcolor": "#E5ECF6",
            "gridcolor": "white",
            "gridwidth": 2,
            "linecolor": "white",
            "showbackground": true,
            "ticks": "",
            "zerolinecolor": "white"
           },
           "yaxis": {
            "backgroundcolor": "#E5ECF6",
            "gridcolor": "white",
            "gridwidth": 2,
            "linecolor": "white",
            "showbackground": true,
            "ticks": "",
            "zerolinecolor": "white"
           },
           "zaxis": {
            "backgroundcolor": "#E5ECF6",
            "gridcolor": "white",
            "gridwidth": 2,
            "linecolor": "white",
            "showbackground": true,
            "ticks": "",
            "zerolinecolor": "white"
           }
          },
          "shapedefaults": {
           "line": {
            "color": "#2a3f5f"
           }
          },
          "ternary": {
           "aaxis": {
            "gridcolor": "white",
            "linecolor": "white",
            "ticks": ""
           },
           "baxis": {
            "gridcolor": "white",
            "linecolor": "white",
            "ticks": ""
           },
           "bgcolor": "#E5ECF6",
           "caxis": {
            "gridcolor": "white",
            "linecolor": "white",
            "ticks": ""
           }
          },
          "title": {
           "x": 0.05
          },
          "xaxis": {
           "automargin": true,
           "gridcolor": "white",
           "linecolor": "white",
           "ticks": "",
           "title": {
            "standoff": 15
           },
           "zerolinecolor": "white",
           "zerolinewidth": 2
          },
          "yaxis": {
           "automargin": true,
           "gridcolor": "white",
           "linecolor": "white",
           "ticks": "",
           "title": {
            "standoff": 15
           },
           "zerolinecolor": "white",
           "zerolinewidth": 2
          }
         }
        },
        "title": {
         "text": "User Segments Profile"
        }
       }
      },
      "text/html": [
       "<div>                            <div id=\"61e9f82f-b3fc-4f82-b68a-11a2f398da34\" class=\"plotly-graph-div\" style=\"height:525px; width:100%;\"></div>            <script type=\"text/javascript\">                require([\"plotly\"], function(Plotly) {                    window.PLOTLYENV=window.PLOTLYENV || {};                                    if (document.getElementById(\"61e9f82f-b3fc-4f82-b68a-11a2f398da34\")) {                    Plotly.newPlot(                        \"61e9f82f-b3fc-4f82-b68a-11a2f398da34\",                        [{\"fill\":\"toself\",\"hoverinfo\":\"text\",\"name\":\"Weekend People\",\"r\":[0.03227961360343471,0.9953380247445951,0.6076856333000947,1.0,0.03227961360343471],\"text\":[\"Time Spent Online (hrs/weekday): 0.03\",\"Time Spent Online (hrs/weekend): 1.00\",\"Likes and Reactions: 0.61\",\"Click-Through Rates (CTR): 1.00\",\"Time Spent Online (hrs/weekday): 0.03\"],\"theta\":[\"Time Spent Online (hrs/weekday)\",\"Time Spent Online (hrs/weekend)\",\"Likes and Reactions\",\"Click-Through Rates (CTR)\",\"Time Spent Online (hrs/weekday)\"],\"type\":\"scatterpolar\"},{\"fill\":\"toself\",\"hoverinfo\":\"text\",\"name\":\"Business Buddies\",\"r\":[0.5958589114068271,0.0,1.0,0.8201316183747415,0.5958589114068271],\"text\":[\"Time Spent Online (hrs/weekday): 0.60\",\"Time Spent Online (hrs/weekend): 0.00\",\"Likes and Reactions: 1.00\",\"Click-Through Rates (CTR): 0.82\",\"Time Spent Online (hrs/weekday): 0.60\"],\"theta\":[\"Time Spent Online (hrs/weekday)\",\"Time Spent Online (hrs/weekend)\",\"Likes and Reactions\",\"Click-Through Rates (CTR)\",\"Time Spent Online (hrs/weekday)\"],\"type\":\"scatterpolar\"},{\"fill\":\"toself\",\"hoverinfo\":\"text\",\"name\":\"Laid-back Surfers\",\"r\":[0.7803418705601707,1.0,0.7100259837935882,0.0,0.7803418705601707],\"text\":[\"Time Spent Online (hrs/weekday): 0.78\",\"Time Spent Online (hrs/weekend): 1.00\",\"Likes and Reactions: 0.71\",\"Click-Through Rates (CTR): 0.00\",\"Time Spent Online (hrs/weekday): 0.78\"],\"theta\":[\"Time Spent Online (hrs/weekday)\",\"Time Spent Online (hrs/weekend)\",\"Likes and Reactions\",\"Click-Through Rates (CTR)\",\"Time Spent Online (hrs/weekday)\"],\"type\":\"scatterpolar\"},{\"fill\":\"toself\",\"hoverinfo\":\"text\",\"name\":\"Active Explorers\",\"r\":[1.0,0.5529186846374183,0.0,0.9428714953011144,1.0],\"text\":[\"Time Spent Online (hrs/weekday): 1.00\",\"Time Spent Online (hrs/weekend): 0.55\",\"Likes and Reactions: 0.00\",\"Click-Through Rates (CTR): 0.94\",\"Time Spent Online (hrs/weekday): 1.00\"],\"theta\":[\"Time Spent Online (hrs/weekday)\",\"Time Spent Online (hrs/weekend)\",\"Likes and Reactions\",\"Click-Through Rates (CTR)\",\"Time Spent Online (hrs/weekday)\"],\"type\":\"scatterpolar\"},{\"fill\":\"toself\",\"hoverinfo\":\"text\",\"name\":\"Penny Pinchers\",\"r\":[0.0,0.3027495703332551,0.12362125336634876,0.04904840263777935,0.0],\"text\":[\"Time Spent Online (hrs/weekday): 0.00\",\"Time Spent Online (hrs/weekend): 0.30\",\"Likes and Reactions: 0.12\",\"Click-Through Rates (CTR): 0.05\",\"Time Spent Online (hrs/weekday): 0.00\"],\"theta\":[\"Time Spent Online (hrs/weekday)\",\"Time Spent Online (hrs/weekend)\",\"Likes and Reactions\",\"Click-Through Rates (CTR)\",\"Time Spent Online (hrs/weekday)\"],\"type\":\"scatterpolar\"}],                        {\"template\":{\"data\":{\"histogram2dcontour\":[{\"type\":\"histogram2dcontour\",\"colorbar\":{\"outlinewidth\":0,\"ticks\":\"\"},\"colorscale\":[[0.0,\"#0d0887\"],[0.1111111111111111,\"#46039f\"],[0.2222222222222222,\"#7201a8\"],[0.3333333333333333,\"#9c179e\"],[0.4444444444444444,\"#bd3786\"],[0.5555555555555556,\"#d8576b\"],[0.6666666666666666,\"#ed7953\"],[0.7777777777777778,\"#fb9f3a\"],[0.8888888888888888,\"#fdca26\"],[1.0,\"#f0f921\"]]}],\"choropleth\":[{\"type\":\"choropleth\",\"colorbar\":{\"outlinewidth\":0,\"ticks\":\"\"}}],\"histogram2d\":[{\"type\":\"histogram2d\",\"colorbar\":{\"outlinewidth\":0,\"ticks\":\"\"},\"colorscale\":[[0.0,\"#0d0887\"],[0.1111111111111111,\"#46039f\"],[0.2222222222222222,\"#7201a8\"],[0.3333333333333333,\"#9c179e\"],[0.4444444444444444,\"#bd3786\"],[0.5555555555555556,\"#d8576b\"],[0.6666666666666666,\"#ed7953\"],[0.7777777777777778,\"#fb9f3a\"],[0.8888888888888888,\"#fdca26\"],[1.0,\"#f0f921\"]]}],\"heatmap\":[{\"type\":\"heatmap\",\"colorbar\":{\"outlinewidth\":0,\"ticks\":\"\"},\"colorscale\":[[0.0,\"#0d0887\"],[0.1111111111111111,\"#46039f\"],[0.2222222222222222,\"#7201a8\"],[0.3333333333333333,\"#9c179e\"],[0.4444444444444444,\"#bd3786\"],[0.5555555555555556,\"#d8576b\"],[0.6666666666666666,\"#ed7953\"],[0.7777777777777778,\"#fb9f3a\"],[0.8888888888888888,\"#fdca26\"],[1.0,\"#f0f921\"]]}],\"heatmapgl\":[{\"type\":\"heatmapgl\",\"colorbar\":{\"outlinewidth\":0,\"ticks\":\"\"},\"colorscale\":[[0.0,\"#0d0887\"],[0.1111111111111111,\"#46039f\"],[0.2222222222222222,\"#7201a8\"],[0.3333333333333333,\"#9c179e\"],[0.4444444444444444,\"#bd3786\"],[0.5555555555555556,\"#d8576b\"],[0.6666666666666666,\"#ed7953\"],[0.7777777777777778,\"#fb9f3a\"],[0.8888888888888888,\"#fdca26\"],[1.0,\"#f0f921\"]]}],\"contourcarpet\":[{\"type\":\"contourcarpet\",\"colorbar\":{\"outlinewidth\":0,\"ticks\":\"\"}}],\"contour\":[{\"type\":\"contour\",\"colorbar\":{\"outlinewidth\":0,\"ticks\":\"\"},\"colorscale\":[[0.0,\"#0d0887\"],[0.1111111111111111,\"#46039f\"],[0.2222222222222222,\"#7201a8\"],[0.3333333333333333,\"#9c179e\"],[0.4444444444444444,\"#bd3786\"],[0.5555555555555556,\"#d8576b\"],[0.6666666666666666,\"#ed7953\"],[0.7777777777777778,\"#fb9f3a\"],[0.8888888888888888,\"#fdca26\"],[1.0,\"#f0f921\"]]}],\"surface\":[{\"type\":\"surface\",\"colorbar\":{\"outlinewidth\":0,\"ticks\":\"\"},\"colorscale\":[[0.0,\"#0d0887\"],[0.1111111111111111,\"#46039f\"],[0.2222222222222222,\"#7201a8\"],[0.3333333333333333,\"#9c179e\"],[0.4444444444444444,\"#bd3786\"],[0.5555555555555556,\"#d8576b\"],[0.6666666666666666,\"#ed7953\"],[0.7777777777777778,\"#fb9f3a\"],[0.8888888888888888,\"#fdca26\"],[1.0,\"#f0f921\"]]}],\"mesh3d\":[{\"type\":\"mesh3d\",\"colorbar\":{\"outlinewidth\":0,\"ticks\":\"\"}}],\"scatter\":[{\"fillpattern\":{\"fillmode\":\"overlay\",\"size\":10,\"solidity\":0.2},\"type\":\"scatter\"}],\"parcoords\":[{\"type\":\"parcoords\",\"line\":{\"colorbar\":{\"outlinewidth\":0,\"ticks\":\"\"}}}],\"scatterpolargl\":[{\"type\":\"scatterpolargl\",\"marker\":{\"colorbar\":{\"outlinewidth\":0,\"ticks\":\"\"}}}],\"bar\":[{\"error_x\":{\"color\":\"#2a3f5f\"},\"error_y\":{\"color\":\"#2a3f5f\"},\"marker\":{\"line\":{\"color\":\"#E5ECF6\",\"width\":0.5},\"pattern\":{\"fillmode\":\"overlay\",\"size\":10,\"solidity\":0.2}},\"type\":\"bar\"}],\"scattergeo\":[{\"type\":\"scattergeo\",\"marker\":{\"colorbar\":{\"outlinewidth\":0,\"ticks\":\"\"}}}],\"scatterpolar\":[{\"type\":\"scatterpolar\",\"marker\":{\"colorbar\":{\"outlinewidth\":0,\"ticks\":\"\"}}}],\"histogram\":[{\"marker\":{\"pattern\":{\"fillmode\":\"overlay\",\"size\":10,\"solidity\":0.2}},\"type\":\"histogram\"}],\"scattergl\":[{\"type\":\"scattergl\",\"marker\":{\"colorbar\":{\"outlinewidth\":0,\"ticks\":\"\"}}}],\"scatter3d\":[{\"type\":\"scatter3d\",\"line\":{\"colorbar\":{\"outlinewidth\":0,\"ticks\":\"\"}},\"marker\":{\"colorbar\":{\"outlinewidth\":0,\"ticks\":\"\"}}}],\"scattermapbox\":[{\"type\":\"scattermapbox\",\"marker\":{\"colorbar\":{\"outlinewidth\":0,\"ticks\":\"\"}}}],\"scatterternary\":[{\"type\":\"scatterternary\",\"marker\":{\"colorbar\":{\"outlinewidth\":0,\"ticks\":\"\"}}}],\"scattercarpet\":[{\"type\":\"scattercarpet\",\"marker\":{\"colorbar\":{\"outlinewidth\":0,\"ticks\":\"\"}}}],\"carpet\":[{\"aaxis\":{\"endlinecolor\":\"#2a3f5f\",\"gridcolor\":\"white\",\"linecolor\":\"white\",\"minorgridcolor\":\"white\",\"startlinecolor\":\"#2a3f5f\"},\"baxis\":{\"endlinecolor\":\"#2a3f5f\",\"gridcolor\":\"white\",\"linecolor\":\"white\",\"minorgridcolor\":\"white\",\"startlinecolor\":\"#2a3f5f\"},\"type\":\"carpet\"}],\"table\":[{\"cells\":{\"fill\":{\"color\":\"#EBF0F8\"},\"line\":{\"color\":\"white\"}},\"header\":{\"fill\":{\"color\":\"#C8D4E3\"},\"line\":{\"color\":\"white\"}},\"type\":\"table\"}],\"barpolar\":[{\"marker\":{\"line\":{\"color\":\"#E5ECF6\",\"width\":0.5},\"pattern\":{\"fillmode\":\"overlay\",\"size\":10,\"solidity\":0.2}},\"type\":\"barpolar\"}],\"pie\":[{\"automargin\":true,\"type\":\"pie\"}]},\"layout\":{\"autotypenumbers\":\"strict\",\"colorway\":[\"#636efa\",\"#EF553B\",\"#00cc96\",\"#ab63fa\",\"#FFA15A\",\"#19d3f3\",\"#FF6692\",\"#B6E880\",\"#FF97FF\",\"#FECB52\"],\"font\":{\"color\":\"#2a3f5f\"},\"hovermode\":\"closest\",\"hoverlabel\":{\"align\":\"left\"},\"paper_bgcolor\":\"white\",\"plot_bgcolor\":\"#E5ECF6\",\"polar\":{\"bgcolor\":\"#E5ECF6\",\"angularaxis\":{\"gridcolor\":\"white\",\"linecolor\":\"white\",\"ticks\":\"\"},\"radialaxis\":{\"gridcolor\":\"white\",\"linecolor\":\"white\",\"ticks\":\"\"}},\"ternary\":{\"bgcolor\":\"#E5ECF6\",\"aaxis\":{\"gridcolor\":\"white\",\"linecolor\":\"white\",\"ticks\":\"\"},\"baxis\":{\"gridcolor\":\"white\",\"linecolor\":\"white\",\"ticks\":\"\"},\"caxis\":{\"gridcolor\":\"white\",\"linecolor\":\"white\",\"ticks\":\"\"}},\"coloraxis\":{\"colorbar\":{\"outlinewidth\":0,\"ticks\":\"\"}},\"colorscale\":{\"sequential\":[[0.0,\"#0d0887\"],[0.1111111111111111,\"#46039f\"],[0.2222222222222222,\"#7201a8\"],[0.3333333333333333,\"#9c179e\"],[0.4444444444444444,\"#bd3786\"],[0.5555555555555556,\"#d8576b\"],[0.6666666666666666,\"#ed7953\"],[0.7777777777777778,\"#fb9f3a\"],[0.8888888888888888,\"#fdca26\"],[1.0,\"#f0f921\"]],\"sequentialminus\":[[0.0,\"#0d0887\"],[0.1111111111111111,\"#46039f\"],[0.2222222222222222,\"#7201a8\"],[0.3333333333333333,\"#9c179e\"],[0.4444444444444444,\"#bd3786\"],[0.5555555555555556,\"#d8576b\"],[0.6666666666666666,\"#ed7953\"],[0.7777777777777778,\"#fb9f3a\"],[0.8888888888888888,\"#fdca26\"],[1.0,\"#f0f921\"]],\"diverging\":[[0,\"#8e0152\"],[0.1,\"#c51b7d\"],[0.2,\"#de77ae\"],[0.3,\"#f1b6da\"],[0.4,\"#fde0ef\"],[0.5,\"#f7f7f7\"],[0.6,\"#e6f5d0\"],[0.7,\"#b8e186\"],[0.8,\"#7fbc41\"],[0.9,\"#4d9221\"],[1,\"#276419\"]]},\"xaxis\":{\"gridcolor\":\"white\",\"linecolor\":\"white\",\"ticks\":\"\",\"title\":{\"standoff\":15},\"zerolinecolor\":\"white\",\"automargin\":true,\"zerolinewidth\":2},\"yaxis\":{\"gridcolor\":\"white\",\"linecolor\":\"white\",\"ticks\":\"\",\"title\":{\"standoff\":15},\"zerolinecolor\":\"white\",\"automargin\":true,\"zerolinewidth\":2},\"scene\":{\"xaxis\":{\"backgroundcolor\":\"#E5ECF6\",\"gridcolor\":\"white\",\"linecolor\":\"white\",\"showbackground\":true,\"ticks\":\"\",\"zerolinecolor\":\"white\",\"gridwidth\":2},\"yaxis\":{\"backgroundcolor\":\"#E5ECF6\",\"gridcolor\":\"white\",\"linecolor\":\"white\",\"showbackground\":true,\"ticks\":\"\",\"zerolinecolor\":\"white\",\"gridwidth\":2},\"zaxis\":{\"backgroundcolor\":\"#E5ECF6\",\"gridcolor\":\"white\",\"linecolor\":\"white\",\"showbackground\":true,\"ticks\":\"\",\"zerolinecolor\":\"white\",\"gridwidth\":2}},\"shapedefaults\":{\"line\":{\"color\":\"#2a3f5f\"}},\"annotationdefaults\":{\"arrowcolor\":\"#2a3f5f\",\"arrowhead\":0,\"arrowwidth\":1},\"geo\":{\"bgcolor\":\"white\",\"landcolor\":\"#E5ECF6\",\"subunitcolor\":\"white\",\"showland\":true,\"showlakes\":true,\"lakecolor\":\"white\"},\"title\":{\"x\":0.05},\"mapbox\":{\"style\":\"light\"}}},\"polar\":{\"radialaxis\":{\"visible\":true,\"range\":[0,1]}},\"showlegend\":true,\"title\":{\"text\":\"User Segments Profile\"}},                        {\"responsive\": true}                    ).then(function(){\n",
       "                            \n",
       "var gd = document.getElementById('61e9f82f-b3fc-4f82-b68a-11a2f398da34');\n",
       "var x = new MutationObserver(function (mutations, observer) {{\n",
       "        var display = window.getComputedStyle(gd).display;\n",
       "        if (!display || display === 'none') {{\n",
       "            console.log([gd, 'removed!']);\n",
       "            Plotly.purge(gd);\n",
       "            observer.disconnect();\n",
       "        }}\n",
       "}});\n",
       "\n",
       "// Listen for the removal of the full notebook cells\n",
       "var notebookContainer = gd.closest('#notebook-container');\n",
       "if (notebookContainer) {{\n",
       "    x.observe(notebookContainer, {childList: true});\n",
       "}}\n",
       "\n",
       "// Listen for the clearing of the current output cell\n",
       "var outputEl = gd.closest('.output');\n",
       "if (outputEl) {{\n",
       "    x.observe(outputEl, {childList: true});\n",
       "}}\n",
       "\n",
       "                        })                };                });            </script>        </div>"
      ]
     },
     "metadata": {},
     "output_type": "display_data"
    }
   ],
   "source": [
    "import plotly.graph_objects as go\n",
    "\n",
    "fig = go.Figure()\n",
    "\n",
    "for i, segment in enumerate(segment_names):\n",
    "    fig.add_trace(go.Scatterpolar(\n",
    "        r=radar_df_normalized.iloc[i][feature_plot].values.tolist() + [radar_df_normalized.iloc[i][feature_plot].values[0]],\n",
    "        theta=labels.tolist() + [labels[0]],\n",
    "        fill=\"toself\",\n",
    "        name=segment,\n",
    "        hoverinfo=\"text\",\n",
    "        text=[f\"{label}: {value:.2f}\" for label, value in zip(feature_plot, radar_df_normalized.iloc[i][feature_plot])] + [f\"{labels[0]}: {radar_df_normalized.iloc[i][feature_plot][0]:.2f}\"]\n",
    "    ))\n",
    "\n",
    "\n",
    "fig.update_layout(\n",
    "    polar=dict(\n",
    "        radialaxis=dict(\n",
    "            visible=True,\n",
    "            range=[0, 1]\n",
    "        )\n",
    "    ),\n",
    "    showlegend=True,\n",
    "    title='User Segments Profile'\n",
    ")\n",
    "\n",
    "\n",
    "fig.show()\n"
   ]
  }
 ],
 "metadata": {
  "kernelspec": {
   "display_name": "Python 3 (ipykernel)",
   "language": "python",
   "name": "python3"
  },
  "language_info": {
   "codemirror_mode": {
    "name": "ipython",
    "version": 3
   },
   "file_extension": ".py",
   "mimetype": "text/x-python",
   "name": "python",
   "nbconvert_exporter": "python",
   "pygments_lexer": "ipython3",
   "version": "3.9.13"
  }
 },
 "nbformat": 4,
 "nbformat_minor": 5
}
